{
 "cells": [
  {
   "cell_type": "code",
   "execution_count": null,
   "id": "ba7999cf",
   "metadata": {
    "vscode": {
     "languageId": "plaintext"
    }
   },
   "outputs": [],
   "source": [
    "labels = np.argmin(distance,axis=1)\n",
    "\n",
    "distance = [[2.1, 1.3, 3.5],\n",
    "            [0.5, 2.2, 1.9],\n",
    "            [4.1, 0.9, 2.0]]\n"
   ]
  },
  {
   "cell_type": "markdown",
   "id": "bab73dbf",
   "metadata": {},
   "source": [
    "This means each row represent the distance of a certain point from different centroids\n",
    "*For sample i, we look at all distances [d(i, c0), d(i, c1), ..., d(i, ck)].\n",
    "So, in above distance example --\n",
    "labels = Row 0 --> 1.3 which may be closer to centroid 1 , so, label = 1\n",
    "         Row 1 --> 0.5 which may be closer to centroid 0 , so, label = 0\n",
    "         Row 2 --> 0.9 which may be closer to centroid 1 , so, label = 1"
   ]
  },
  {
   "cell_type": "code",
   "execution_count": null,
   "id": "c822632d",
   "metadata": {
    "vscode": {
     "languageId": "plaintext"
    }
   },
   "outputs": [],
   "source": [
    "X = X[:,np.newaxis]"
   ]
  },
  {
   "cell_type": "markdown",
   "id": "d355195b",
   "metadata": {},
   "source": [
    "np.newaxis = This is the method to add new \"dimension\" intp the array which makes it a tensor for some time.\n"
   ]
  }
 ],
 "metadata": {
  "language_info": {
   "name": "python"
  }
 },
 "nbformat": 4,
 "nbformat_minor": 5
}
